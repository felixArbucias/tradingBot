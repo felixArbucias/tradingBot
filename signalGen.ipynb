{
 "cells": [
  {
   "cell_type": "code",
   "execution_count": 15,
   "metadata": {},
   "outputs": [
    {
     "name": "stderr",
     "output_type": "stream",
     "text": [
      "[*********************100%%**********************]  1 of 1 completed\n"
     ]
    }
   ],
   "source": [
    "import yfinance as yf\n",
    "import pandas as pd \n",
    "dataF = yf.download(\"EURUSD=X\", start = \"2024-3-30\", end = \"2024-4-30\", interval = '15m')\n",
    "dataF.iloc[-1:,:]\n",
    "dataF.Open.iloc\n",
    "\n",
    "# function call to buy, sale, or none\n",
    "def signal_generator(df):\n",
    "    open = df.Open.iloc[-1]\n",
    "    close = df.Close.iloc[1]\n",
    "    previous_open = df.Open.iloc[2]\n",
    "    previous_close = df.Close.iloc[2]\n",
    "\n",
    "    # Bearish Pattern\n",
    "    if (open > close and\n",
    "        previous_open < previous_close and\n",
    "        close <previous_open and \n",
    "        open>=previous_close):\n",
    "        return 1 \n",
    "    # Bullish Pattern\n",
    "    elif (open<close and \n",
    "          previous_open>previous_close and\n",
    "          close > previous_open and\n",
    "          open<=previous_close):\n",
    "        return 2\n",
    "    # No Pattern\n",
    "    else:\n",
    "        return 0\n",
    "    \n",
    "    signal = []\n",
    "    signal.append(0)\n",
    "    for i in range(1,len(dataF)):\n",
    "        df = dataF[i-1:i+1]\n",
    "        signal.append(signal_generator(df))\n",
    "    #signal generator data\n",
    "    dataF[\"signal\"] = signal\n",
    "\n",
    "    #data.signal.value_counts()\n",
    "    dataF.iloc[:,:]\n",
    "     "
   ]
  },
  {
   "cell_type": "code",
   "execution_count": 14,
   "metadata": {},
   "outputs": [],
   "source": [
    "# Access token API for broker \n",
    "from apscheduler.schedulers.blocking import BlockingScheduler\n",
    "from oandapyV20 import API\n",
    "import oandapyV20.endpoints.orders as orders \n",
    "from oandapyV20.contrib.requests import MarketOrderRequest\n",
    "from oanda_candles import Pair, Gran, CandleCollector, CandleClient\n",
    "from oandapyV20.contrib.requests import TakeProfitDetails, StopLossDetails"
   ]
  },
  {
   "cell_type": "code",
   "execution_count": 22,
   "metadata": {},
   "outputs": [
    {
     "ename": "NameError",
     "evalue": "name 'CandleClient' is not defined",
     "output_type": "error",
     "traceback": [
      "\u001b[0;31m---------------------------------------------------------------------------\u001b[0m",
      "\u001b[0;31mNameError\u001b[0m                                 Traceback (most recent call last)",
      "Cell \u001b[0;32mIn[22], line 9\u001b[0m\n\u001b[1;32m      6\u001b[0m     candles \u001b[38;5;241m=\u001b[39m collector\u001b[38;5;241m.\u001b[39mgrab(n)\n\u001b[1;32m      7\u001b[0m     \u001b[38;5;28;01mreturn\u001b[39;00m candles\n\u001b[0;32m----> 9\u001b[0m candles \u001b[38;5;241m=\u001b[39m get_candles(\u001b[38;5;241m3\u001b[39m)\n\u001b[1;32m     10\u001b[0m \u001b[38;5;28;01mfor\u001b[39;00m candle \u001b[38;5;129;01min\u001b[39;00m candles: \n\u001b[1;32m     11\u001b[0m     \u001b[38;5;28mprint\u001b[39m(\u001b[38;5;28mfloat\u001b[39m(\u001b[38;5;28mstr\u001b[39m(candle\u001b[38;5;241m.\u001b[39mbid\u001b[38;5;241m.\u001b[39mo))\u001b[38;5;241m>\u001b[39m\u001b[38;5;241m1\u001b[39m)\n",
      "Cell \u001b[0;32mIn[22], line 4\u001b[0m, in \u001b[0;36mget_candles\u001b[0;34m(n)\u001b[0m\n\u001b[1;32m      2\u001b[0m \u001b[38;5;28;01mdef\u001b[39;00m \u001b[38;5;21mget_candles\u001b[39m(n):\n\u001b[1;32m      3\u001b[0m     \u001b[38;5;66;03m#can play access token here or as a global variable\u001b[39;00m\n\u001b[0;32m----> 4\u001b[0m     client \u001b[38;5;241m=\u001b[39m CandleClient(access_token, real\u001b[38;5;241m=\u001b[39mfalse)\n\u001b[1;32m      5\u001b[0m     collector \u001b[38;5;241m=\u001b[39m client\u001b[38;5;241m.\u001b[39mget_collector(Pair\u001b[38;5;241m.\u001b[39mEUR_USD, Gran\u001b[38;5;241m.\u001b[39mM15)\n\u001b[1;32m      6\u001b[0m     candles \u001b[38;5;241m=\u001b[39m collector\u001b[38;5;241m.\u001b[39mgrab(n)\n",
      "\u001b[0;31mNameError\u001b[0m: name 'CandleClient' is not defined"
     ]
    }
   ],
   "source": [
    "#from config import access_token, accountID\n",
    "def get_candles(n):\n",
    "    #can play access token here or as a global variable\n",
    "    client = CandleClient(access_token, real=false)\n",
    "    collector = client.get_collector(Pair.EUR_USD, Gran.M15)\n",
    "    candles = collector.grab(n)\n",
    "    return candles\n",
    "\n",
    "candles = get_candles(3)\n",
    "for candle in candles: \n",
    "    print(float(str(candle.bid.o))>1)\n",
    "    "
   ]
  },
  {
   "cell_type": "markdown",
   "metadata": {},
   "source": [
    "Trading Job "
   ]
  },
  {
   "cell_type": "code",
   "execution_count": 21,
   "metadata": {},
   "outputs": [],
   "source": [
    "def trading_job():\n",
    "    candles = get_candles(3)\n",
    "    dfstream = pd.DataFrame(columns=['Open', 'Close', 'High', 'Low'])\n",
    "\n",
    "    i=0\n",
    "    for candle in candles:\n",
    "        dfstream.loc[i, ['Open']] = float(str(candle.bid.o)) \n",
    "        dfstream.loc[i, ['Close']] = float(str(candle.bid.c)) \n",
    "        dfstream.loc[i, ['High']] = float(str(candle.bid.h)) \n",
    "        dfstream.loc[i, ['Low']] = float(str(candle.bid.l)) \n",
    "        i = i + 1\n",
    "    \n",
    "    dfstream['Open'] = dfstream['Open'].astype(float)\n",
    "    dfstream['Close'] = dfstream['Close'].astype(float)\n",
    "    dfstream['High'] = dfstream['High'].astype(float)\n",
    "    dfstream['Low'] = dfstream['Low'].astype(float)\n",
    "\n",
    "    signal = signal_generator(dfstream.iloc[:-1,:])\n",
    "    "
   ]
  }
 ],
 "metadata": {
  "kernelspec": {
   "display_name": "base",
   "language": "python",
   "name": "python3"
  },
  "language_info": {
   "codemirror_mode": {
    "name": "ipython",
    "version": 3
   },
   "file_extension": ".py",
   "mimetype": "text/x-python",
   "name": "python",
   "nbconvert_exporter": "python",
   "pygments_lexer": "ipython3",
   "version": "3.11.7"
  }
 },
 "nbformat": 4,
 "nbformat_minor": 2
}
