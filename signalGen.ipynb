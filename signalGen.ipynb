{
 "cells": [
  {
   "cell_type": "code",
   "execution_count": 10,
   "metadata": {},
   "outputs": [
    {
     "name": "stderr",
     "output_type": "stream",
     "text": [
      "[*********************100%%**********************]  1 of 1 completed\n"
     ]
    }
   ],
   "source": [
    "import yfinance as yf\n",
    "import pandas as pd \n",
    "dataF = yf.download(\"EURUSD=X\", start = \"2024-3-1\", end = \"2024-4-24\", interval = '15m')\n",
    "dataF.iloc[-1:,:]\n",
    "dataF.Open.iloc\n",
    "\n",
    "# function call to buy, sale, or none\n",
    "def signal_generator(df):\n",
    "    open = df.Open.iloc[-1]\n",
    "    close = df.Close.iloc[1]\n",
    "    previous_open = df.Open.iloc[2]\n",
    "    previous_close = df.Close.iloc[2]\n",
    "\n",
    "    # Bearish Pattern\n",
    "    if (open > close and\n",
    "        previous_open < previous_close and\n",
    "        close <previous_open and \n",
    "        open>=previous_close):\n",
    "        return 1 \n",
    "    # Bullish Pattern\n",
    "    elif (open<close and \n",
    "          previous_open>previous_close and\n",
    "          close > previous_open and\n",
    "          open<=previous_close):\n",
    "        return 2\n",
    "    # No Pattern\n",
    "    else:\n",
    "        return 0\n",
    "    \n",
    "    signal = []\n",
    "    signal.append(0)\n",
    "    for i in range(1,len(dataF)):\n",
    "        df = dataF[i-1:i+1]\n",
    "        signal.append(signal_generator(df))\n",
    "    #signal generator data\n",
    "    dataF[\"signal\"] = signal\n",
    "\n",
    "    #data.signal.value counts\n",
    "    dataF.iloc[:,:]\n",
    "     "
   ]
  },
  {
   "cell_type": "code",
   "execution_count": null,
   "metadata": {},
   "outputs": [],
   "source": [
    "# Access token API for broker \n",
    "from apscheduler.schedulers.blocking import BlockingScheduler\n",
    "from oandapyV20 import API\n",
    "import oandapyv20.endpoints.orders as orders\n",
    "from oandapyV20.contrib.requests import MarketOrderRequest\n",
    "from oanda_candles import Pair, Gran, CandleCollector"
   ]
  },
  {
   "cell_type": "markdown",
   "metadata": {},
   "source": []
  }
 ],
 "metadata": {
  "kernelspec": {
   "display_name": "base",
   "language": "python",
   "name": "python3"
  },
  "language_info": {
   "codemirror_mode": {
    "name": "ipython",
    "version": 3
   },
   "file_extension": ".py",
   "mimetype": "text/x-python",
   "name": "python",
   "nbconvert_exporter": "python",
   "pygments_lexer": "ipython3",
   "version": "3.11.7"
  }
 },
 "nbformat": 4,
 "nbformat_minor": 2
}
